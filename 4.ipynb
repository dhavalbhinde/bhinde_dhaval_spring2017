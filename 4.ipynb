{
 "cells": [
  {
   "cell_type": "code",
   "execution_count": 134,
   "metadata": {
    "collapsed": false
   },
   "outputs": [
    {
     "name": "stdout",
     "output_type": "stream",
     "text": [
      "NPS_Chat has following files under it ['10-19-20s_706posts.xml', '10-19-30s_705posts.xml', '10-19-40s_686posts.xml', '10-19-adults_706posts.xml', '10-24-40s_706posts.xml', '10-26-teens_706posts.xml', '11-06-adults_706posts.xml', '11-08-20s_705posts.xml', '11-08-40s_706posts.xml', '11-08-adults_705posts.xml', '11-08-teens_706posts.xml', '11-09-20s_706posts.xml', '11-09-40s_706posts.xml', '11-09-adults_706posts.xml', '11-09-teens_706posts.xml']\n",
      "Total no. of posts by User121: 132\n",
      "No. of unique users in the age group 20 are: 162\n",
      "No. of unique users in the age group 30 are: 44\n",
      "No. of unique users in the age group 40 are: 80\n",
      "No. of unique users in the adult group are: 138\n",
      "No. of unique users in the teen group are: 206\n"
     ]
    }
   ],
   "source": [
    "import re\n",
    "\n",
    "from nltk.corpus import nps_chat\n",
    "print('NPS_Chat has following files under it', nps_chat.fileids())\n",
    "\n",
    "# raw1 = nps_chat.raw('10-19-20s_706posts.xml')\n",
    "# user121_count_20s = len([m.start() for m in re.finditer('user=\"10-19-20sUser121\"', raw1)])\n",
    "# print('count of user121 in 10-19-20s is',user121_count_20s)    \n",
    "\n",
    "# raw2 = nps_chat.raw('10-19-30s_705posts.xml')\n",
    "# print(raw2)\n",
    "\n",
    "# user121_count_30s = len([m.start() for m in re.finditer('user=\"10-19-30sUser121\"', raw2)])\n",
    "# print('count of user121 in 10-19-30s is',user121_count_30s)    \n",
    "\n",
    "\n",
    "user121_count = 0\n",
    "\n",
    "for ids in nps_chat.fileids():\n",
    "#     print('File is ',ids)\n",
    "#     print('Count of',ids,'is',len([m.start() for m in re.finditer('User121\">', nps_chat.raw(ids))]))\n",
    "    user121_count = user121_count + len([m.start() for m in re.finditer('User121\">', nps_chat.raw(ids))])\n",
    "print ('Total no. of posts by User121:',user121_count)\n",
    "\n",
    "\n",
    "\n",
    "chat_20s = ['10-19-20s_706posts.xml','11-08-20s_705posts.xml','11-09-20s_706posts.xml']\n",
    "chat_30s = ['10-19-30s_705posts.xml']\n",
    "chat_40s = ['10-19-40s_686posts.xml','10-24-40s_706posts.xml','11-08-40s_706posts.xml','11-09-40s_706posts.xml']\n",
    "chat_adults = ['10-19-adults_706posts.xml','11-06-adults_706posts.xml','11-08-adults_705posts.xml','11-09-adults_706posts.xml']\n",
    "chat_teens = ['10-26-teens_706posts.xml','11-08-teens_706posts.xml','11-09-teens_706posts.xml']\n",
    "\n",
    "\n",
    "user_20s = []\n",
    "for page in (chat_20s):\n",
    "        user = (re.findall('User\\d*\">', nps_chat.raw(page)))\n",
    "        for u in user:\n",
    "            user_20s.append(u)\n",
    "            \n",
    "print('No. of unique users in the age group 20 are:',len(list(set(user_20s))))                                                    \n",
    "\n",
    "\n",
    "user_30s = []\n",
    "for page in (chat_30s):\n",
    "        user = (re.findall('User\\d*\">', nps_chat.raw(page)))\n",
    "        for u in user:\n",
    "            user_30s.append(u)\n",
    "            \n",
    "print('No. of unique users in the age group 30 are:',len(list(set(user_30s))))                                                   \n",
    "                                                    \n",
    "                                                    \n",
    "user_40s = []\n",
    "for page in (chat_40s):\n",
    "        user = (re.findall('User\\d*\">', nps_chat.raw(page)))\n",
    "        for u in user:\n",
    "            user_40s.append(u)\n",
    "            \n",
    "print('No. of unique users in the age group 40 are:',len(list(set(user_40s))))                                                    \n",
    "\n",
    "\n",
    "user_adults = []\n",
    "for page in (chat_adults):\n",
    "        user = (re.findall('User\\d*\">', nps_chat.raw(page)))\n",
    "        for u in user:\n",
    "            user_adults.append(u)\n",
    "            \n",
    "print('No. of unique users in the adult group are:',len(list(set(user_adults))))                                                    \n",
    "                                                    \n",
    "                                                    \n",
    "user_teens = []\n",
    "for page in (chat_teens):\n",
    "        user = (re.findall('User\\d*\">', nps_chat.raw(page)))\n",
    "        for u in user:\n",
    "            user_teens.append(u)\n",
    "            \n",
    "print('No. of unique users in the teen group are:',len(list(set(user_teens))))                                                   \n",
    "                                                    \n"
   ]
  }
 ],
 "metadata": {
  "anaconda-cloud": {},
  "kernelspec": {
   "display_name": "Python [conda root]",
   "language": "python",
   "name": "conda-root-py"
  },
  "language_info": {
   "codemirror_mode": {
    "name": "ipython",
    "version": 3
   },
   "file_extension": ".py",
   "mimetype": "text/x-python",
   "name": "python",
   "nbconvert_exporter": "python",
   "pygments_lexer": "ipython3",
   "version": "3.5.2"
  }
 },
 "nbformat": 4,
 "nbformat_minor": 1
}
