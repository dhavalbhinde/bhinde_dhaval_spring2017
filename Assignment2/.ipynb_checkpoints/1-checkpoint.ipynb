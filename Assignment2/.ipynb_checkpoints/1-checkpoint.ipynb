{
 "cells": [
  {
   "cell_type": "markdown",
   "metadata": {},
   "source": [
    "# Question1"
   ]
  },
  {
   "cell_type": "code",
   "execution_count": 36,
   "metadata": {
    "collapsed": true
   },
   "outputs": [],
   "source": [
    "import glob\n",
    "import re\n",
    "import math\n",
    "import csv\n",
    "import numpy as mp\n",
    "\n",
    "regex = re.compile(\"[^a-zA-Z\\s]\")\n",
    "path = \"C:/Users/Dhaval/Desktop/Python/Data_Assignment1/*.txt\"\n",
    "raw_data=[]\n",
    "\n",
    "for filename in glob.glob(path):\n",
    "    with open(filename, 'r') as f:\n",
    "         for line in f:\n",
    "            for word in line.split():    \n",
    "                raw_data.append(word.lower())  \n",
    "\n",
    "                \n",
    "#Get the frequency of each word in Webtext\n",
    "\n",
    "frequency_words_webtext = {}        \n",
    "for words in raw_data:         \n",
    "    words = [regex.sub('', words)] \n",
    "    clean_data = [x for x in words if x] #to delete '' empty elements from the list\n",
    "    for z in clean_data:\n",
    "        if z not in frequency_words_webtext:  \n",
    "            frequency_words_webtext[z] = 1\n",
    "        else: frequency_words_webtext[z]+=1    \n",
    "\n",
    "myTuple= (sorted(frequency_words_webtext.items(), key=lambda x:x[1],reverse=True))\n",
    "\n",
    "myList=[]\n",
    "prev = 0\n",
    "rank = 0\n",
    "for i in range(len(myTuple)):\n",
    "    curr = myTuple[i][1]   \n",
    "    if curr!=prev:   \n",
    "        rank += 1\n",
    "        prev=myTuple[i][1]\n",
    "    myList.append((myTuple[i][0],myTuple[i][1],rank))        \n",
    "\n",
    "        \n",
    "with open('temp.csv','w',newline='') as out:\n",
    "    csv_out=csv.writer(out)\n",
    "    \n",
    "    csv_out.writerow(['word','frequency','rank'])\n",
    "    for row in myList:\n",
    "        csv_out.writerow(row)    \n"
   ]
  },
  {
   "cell_type": "code",
   "execution_count": 37,
   "metadata": {
    "collapsed": false
   },
   "outputs": [],
   "source": [
    "import pandas\n",
    "from math import log\n",
    "\n",
    "def logFunc(logList = [], *args):\n",
    "    result = []\n",
    "    for x in logList:\n",
    "        result.append(log(x,10))\n",
    "    return result    \n",
    "        \n",
    "       \n",
    "colnames = ['word','frequency','rank_data']\n",
    "data = pandas.read_csv('temp.csv', names=colnames)\n",
    "\n",
    "rank_data = data.rank_data.tolist()\n",
    "frequency = data.frequency.tolist()\n",
    "\n",
    "frequency.pop(0)\n",
    "rank_data.pop(0)\n",
    "\n",
    "frequency = [float(i) for i in frequency]\n",
    "rank_data = [float(i) for i in rank_data]\n",
    "\n",
    "frequency_log = logFunc(frequency)\n",
    "rank_data_log = logFunc(rank_data)\n",
    "\n",
    "\n",
    "        \n",
    "        \n",
    "        "
   ]
  },
  {
   "cell_type": "code",
   "execution_count": 38,
   "metadata": {
    "collapsed": false
   },
   "outputs": [
    {
     "data": {
      "image/png": "[encoded data removed]",
      "text/plain": [
       "<matplotlib.figure.Figure at 0x20888679240>"
      ]
     },
     "metadata": {},
     "output_type": "display_data"
    }
   ],
   "source": [
    "import numpy as np\n",
    "import matplotlib.pyplot as plt\n",
    "\n",
    "fig = plt.figure()\n",
    "ax1 = fig.add_subplot(2,1,1)\n",
    "ax1.plot(rank_data_log, frequency_log, color='b', label='the data')\n",
    "plt.show()\n"
   ]
  }
 ],
 "metadata": {
  "anaconda-cloud": {},
  "kernelspec": {
   "display_name": "Python [conda root]",
   "language": "python",
   "name": "conda-root-py"
  },
  "language_info": {
   "codemirror_mode": {
    "name": "ipython",
    "version": 3
   },
   "file_extension": ".py",
   "mimetype": "text/x-python",
   "name": "python",
   "nbconvert_exporter": "python",
   "pygments_lexer": "ipython3",
   "version": "3.5.2"
  }
 },
 "nbformat": 4,
 "nbformat_minor": 1
}
