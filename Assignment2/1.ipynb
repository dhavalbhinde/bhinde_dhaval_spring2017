{
 "cells": [
  {
   "cell_type": "code",
   "execution_count": 48,
   "metadata": {
    "collapsed": false,
    "scrolled": true
   },
   "outputs": [],
   "source": [
    "import glob\n",
    "import re\n",
    "import math\n",
    "import csv\n",
    "import numpy as mp\n",
    "\n",
    "regex = re.compile(\"[^a-zA-Z\\s]\")\n",
    "path = \"C:/Users/Dhaval/Desktop/Python/*.txt\"\n",
    "raw_data=[]\n",
    "\n",
    "for filename in glob.glob(path):\n",
    "    with open(filename, 'r') as f:\n",
    "         for line in f:\n",
    "            for word in line.split():    \n",
    "                raw_data.append(word.lower())  \n",
    "\n",
    "                \n",
    "#Get the frequency of each word in Webtext\n",
    "\n",
    "frequency_words_webtext = {}        \n",
    "for words in raw_data:         \n",
    "    words = [regex.sub('', words)] \n",
    "    clean_data = [x for x in words if x] #to delete '' empty elements from the list\n",
    "    for z in clean_data:\n",
    "        if z not in frequency_words_webtext:  \n",
    "            frequency_words_webtext[z] = 1\n",
    "        else: frequency_words_webtext[z]+=1    \n",
    "\n",
    "myTuple= (sorted(frequency_words_webtext.items(), key=lambda x:x[1],reverse=True))\n",
    "\n",
    "myList=[]\n",
    "prev = 0\n",
    "rank = 0\n",
    "for i in range(len(myTuple)):\n",
    "    curr = myTuple[i][1]   \n",
    "    if curr!=prev:   \n",
    "        rank += 1\n",
    "        prev=myTuple[i][1]\n",
    "    myList.append((myTuple[i][0],myTuple[i][1],rank))        \n",
    "\n",
    "        \n",
    "with open('temp.csv','w',newline='') as out:\n",
    "    csv_out=csv.writer(out)\n",
    "    \n",
    "    csv_out.writerow(['word','frequency','rank'])\n",
    "    for row in myList:\n",
    "        csv_out.writerow(row)    \n"
   ]
  },
  {
   "cell_type": "code",
   "execution_count": 52,
   "metadata": {
    "collapsed": false
   },
   "outputs": [
    {
     "data": {
      "image/png": "[encoded data removed]",
      "text/plain": [
       "<matplotlib.figure.Figure at 0x2834961e1d0>"
      ]
     },
     "metadata": {},
     "output_type": "display_data"
    }
   ],
   "source": [
    "import numpy as np\n",
    "import matplotlib.pyplot as plt\n",
    "\n",
    "fig = plt.figure()\n",
    "ax1 = fig.add_subplot(2,1,1)\n",
    "ax1.set_yscale('log')\n",
    "ax1.set_xscale('log')\n",
    "data = np.genfromtxt('temp.csv', delimiter=',', skip_header=1,\n",
    "                     skip_footer=0, names=['z', 'y', 'x'])\n",
    "ax1.plot(data['x'], data['y'], color='r', label='the data')\n",
    "plt.show()"
   ]
  }
 ],
 "metadata": {
  "anaconda-cloud": {},
  "kernelspec": {
   "display_name": "Python [conda root]",
   "language": "python",
   "name": "conda-root-py"
  },
  "language_info": {
   "codemirror_mode": {
    "name": "ipython",
    "version": 3
   },
   "file_extension": ".py",
   "mimetype": "text/x-python",
   "name": "python",
   "nbconvert_exporter": "python",
   "pygments_lexer": "ipython3",
   "version": "3.5.2"
  }
 },
 "nbformat": 4,
 "nbformat_minor": 1
}
