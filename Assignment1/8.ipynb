{
 "cells": [
  {
   "cell_type": "code",
   "execution_count": 2,
   "metadata": {
    "collapsed": false
   },
   "outputs": [
    {
     "name": "stdout",
     "output_type": "stream",
     "text": [
      "Unusual word lenth is : 2261\n"
     ]
    }
   ],
   "source": [
    "import re\n",
    "from nltk.corpus import nps_chat, words\n",
    "chat_post= nps_chat.fileids()\n",
    "\n",
    "std_words = words.words()   # Standard words \n",
    "posts_words = []            # Nps_chat words\n",
    "\n",
    "for c in chat_post:         # Get entire nps_chat package\n",
    "    raw_txt = nps_chat.raw(c)\n",
    "    myWords=re.findall(r'word=\"(.*)\"', raw_txt)    # filter only words \n",
    "    for m in myWords:\n",
    "        posts_words.append(m)\n",
    "\n",
    "correct_list =[]\n",
    "for w in posts_words:                   #Get only characters and numbers\n",
    "        test_String= str(w)\n",
    "        result =re.search(r'[a-zA-Z0-9]*',test_String.lower())\n",
    "        if result:\n",
    "            correct_list.append(result.group())\n",
    "correct_list1 =[]\n",
    "for x in correct_list:                 #Eliminate numbers\n",
    "        test_String= str(x)\n",
    "        result =re.search(r'[a-zA-Z]*',test_String)\n",
    "        if result:\n",
    "            correct_list1.append(result.group())\n",
    "\n",
    "unusual_words=[]\n",
    "unwanted =[]                        \n",
    "for cl in correct_list1:                           #Comparing each word with standard word \n",
    "    if cl in std_words:\n",
    "        unwanted.append(cl)\n",
    "    else:\n",
    "        unusual_words.append(cl) \n",
    "final_Post = set(unusual_words)                   #To get unique value of unusual words\n",
    "\n",
    "\n",
    "print(\"Unusual word lenth is :\", len(final_Post))"
   ]
  }
 ],
 "metadata": {
  "anaconda-cloud": {},
  "kernelspec": {
   "display_name": "Python [conda root]",
   "language": "python",
   "name": "conda-root-py"
  },
  "language_info": {
   "codemirror_mode": {
    "name": "ipython",
    "version": 3
   },
   "file_extension": ".py",
   "mimetype": "text/x-python",
   "name": "python",
   "nbconvert_exporter": "python",
   "pygments_lexer": "ipython3",
   "version": "3.5.2"
  }
 },
 "nbformat": 4,
 "nbformat_minor": 1
}
