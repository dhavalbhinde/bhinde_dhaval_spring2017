{
 "cells": [
  {
   "cell_type": "code",
   "execution_count": 6,
   "metadata": {
    "collapsed": false
   },
   "outputs": [
    {
     "name": "stdout",
     "output_type": "stream",
     "text": [
      "Total no. of tokens = 1242990\n",
      "Top 26 High Frequency Words are: [('e', 117091), ('t', 87995), ('a', 77915), ('o', 69325), ('n', 65616), ('i', 65433), ('s', 64230), ('h', 62895), ('r', 52133), ('l', 42792), ('d', 38218), ('u', 26696), ('m', 23276), ('c', 22506), ('w', 22221), ('f', 20832), ('g', 20819), ('p', 17254), ('b', 16876), ('y', 16871), ('v', 8597), ('k', 8058), ('q', 1555), ('j', 1081), ('x', 1029), ('z', 631)]\n"
     ]
    }
   ],
   "source": [
    "import nltk\n",
    "import re\n",
    "\n",
    "words_moby_dick =  nltk.corpus.gutenberg.raw('melville-moby_dick.txt')\n",
    "\n",
    "words_moby_dick_lower = [word.lower() for word in words_moby_dick]\n",
    "print('Total no. of tokens =',len(words_moby_dick_lower))\n",
    "\n",
    "regex = re.compile(\"[^a-zA-Z]\")\n",
    "\n",
    "words_moby_dick_lower_clean = []\n",
    "\n",
    "for x in words_moby_dick_lower:\n",
    "    words_moby_dick_lower_clean.append(regex.sub('', x))\n",
    "    \n",
    "words_moby_dick_lower_clean = filter(None, words_moby_dick_lower_clean)   \n",
    "\n",
    "frequency_words = {}        \n",
    "for z in words_moby_dick_lower_clean:\n",
    "    if z not in frequency_words:  \n",
    "        frequency_words[z] = 0\n",
    "    else: frequency_words[z]+=1    \n",
    "\n",
    "    \n",
    "# Get top 26 high frquency words\n",
    "print('Top 26 High Frequency Words are:', sorted(frequency_words.items(), key=lambda x:x[1],reverse=True)[:26])\n",
    "\n",
    "\n",
    "\n",
    "\n",
    "\n",
    "\n"
   ]
  }
 ],
 "metadata": {
  "anaconda-cloud": {},
  "kernelspec": {
   "display_name": "Python [conda root]",
   "language": "python",
   "name": "conda-root-py"
  },
  "language_info": {
   "codemirror_mode": {
    "name": "ipython",
    "version": 3
   },
   "file_extension": ".py",
   "mimetype": "text/x-python",
   "name": "python",
   "nbconvert_exporter": "python",
   "pygments_lexer": "ipython3",
   "version": "3.5.2"
  }
 },
 "nbformat": 4,
 "nbformat_minor": 1
}
