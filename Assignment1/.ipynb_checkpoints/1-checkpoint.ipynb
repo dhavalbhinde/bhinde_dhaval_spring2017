{
 "cells": [
  {
   "cell_type": "code",
   "execution_count": 41,
   "metadata": {
    "collapsed": false
   },
   "outputs": [
    {
     "name": "stdout",
     "output_type": "stream",
     "text": [
      "Total no. of tokens = 98171\n",
      "No of unique words = 5835\n",
      "Top 10 High Frequency Words are: [(',', 6749), ('the', 3328), ('to', 2807), ('and', 2800), ('.', 2740), ('of', 2569), ('a', 1594), ('in', 1388), ('was', 1336), (';', 1289)]\n"
     ]
    }
   ],
   "source": [
    "import nltk\n",
    "import re\n",
    "\n",
    "nltk.corpus.gutenberg.fileids()\n",
    "words_austen =  nltk.corpus.gutenberg.words('austen-persuasion.txt')\n",
    "len(words_austen)\n",
    "\n",
    "words_austen_lower = [word.lower() for word in words_austen]\n",
    "print('Total no. of tokens =',len(words_austen_lower))\n",
    "\n",
    "#One way to count unique and sorted words\n",
    "uniqWords = sorted(set(words_austen_lower))\n",
    "\n",
    "#Yet Another way to count unique words\n",
    "unique_words = []\n",
    "for x in words_austen_lower: \n",
    "    if x not in unique_words:\n",
    "        unique_words.append(x)\n",
    "        \n",
    "print (\"No of unique words =\",len(uniqWords))\n",
    "\n",
    "# Find the frequency of words using a dictionary\n",
    "frequency_words = {}        \n",
    "for z in words_austen_lower:\n",
    "    if z not in frequency_words:  \n",
    "        frequency_words[z] = 0\n",
    "    else: frequency_words[z]+=1    \n",
    "\n",
    "    \n",
    "# Get top 10 high frquency words\n",
    "print('Top 10 High Frequency Words are:', sorted(frequency_words.items(), key=lambda x:x[1],reverse=True)[:10])\n",
    "\n"
   ]
  }
 ],
 "metadata": {
  "anaconda-cloud": {},
  "kernelspec": {
   "display_name": "Python [conda root]",
   "language": "python",
   "name": "conda-root-py"
  },
  "language_info": {
   "codemirror_mode": {
    "name": "ipython",
    "version": 3
   },
   "file_extension": ".py",
   "mimetype": "text/x-python",
   "name": "python",
   "nbconvert_exporter": "python",
   "pygments_lexer": "ipython3",
   "version": "3.5.2"
  }
 },
 "nbformat": 4,
 "nbformat_minor": 1
}
