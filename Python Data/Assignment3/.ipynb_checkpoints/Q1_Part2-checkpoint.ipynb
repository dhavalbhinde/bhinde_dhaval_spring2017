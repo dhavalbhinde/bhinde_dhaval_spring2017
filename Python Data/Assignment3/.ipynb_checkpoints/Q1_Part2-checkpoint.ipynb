{
 "cells": [
  {
   "cell_type": "code",
   "execution_count": 1,
   "metadata": {
    "collapsed": false
   },
   "outputs": [
    {
     "name": "stdout",
     "output_type": "stream",
     "text": [
      "complete\n"
     ]
    }
   ],
   "source": [
    "import os\n",
    "import pandas as pd\n",
    "import numpy as np\n",
    "\n",
    "pd.options.mode.chained_assignment = None  # default='warn'\n",
    "\n",
    "try:\n",
    "    os.chdir('C:/Users/Dhaval/Python_Data/bhinde_dhaval_spring2017/') # making changes to cwd for local reference\n",
    "except:\n",
    "    pass\n",
    "\n",
    "df1=pd.read_csv(\"Assignment3\\\\Data\\\\vehicle_collisions.csv\") #Read CSV\n",
    "print('complete')"
   ]
  },
  {
   "cell_type": "code",
   "execution_count": 2,
   "metadata": {
    "collapsed": false
   },
   "outputs": [],
   "source": [
    "#Extract Borough and Vehicle data only\n",
    "\n",
    "df2 = df1[['BOROUGH','VEHICLE 1 TYPE','VEHICLE 2 TYPE','VEHICLE 3 TYPE','VEHICLE 4 TYPE','VEHICLE 5 TYPE']]\n",
    "\n",
    "#Sum up the data horizontally to get the no.of vehicles involved in each incident\n",
    "\n",
    "df2['Count'] = df2[['VEHICLE 1 TYPE','VEHICLE 2 TYPE','VEHICLE 3 TYPE','VEHICLE 4 TYPE','VEHICLE 5 TYPE']] \\\n",
    "               .apply(lambda x: sum(x.notnull()), axis=1)\n",
    "    "
   ]
  },
  {
   "cell_type": "code",
   "execution_count": 3,
   "metadata": {
    "collapsed": false
   },
   "outputs": [],
   "source": [
    "# Create new dataframe containing the Borough and no.of vehicles involved in each accident\n",
    "\n",
    "df3 = df2[['BOROUGH','Count']]\n",
    "df4 = df3.groupby(['BOROUGH','Count']).size()"
   ]
  },
  {
   "cell_type": "code",
   "execution_count": 4,
   "metadata": {
    "collapsed": false
   },
   "outputs": [],
   "source": [
    "#Reset index and re-assign column names for futher reference\n",
    "\n",
    "df5 = df4.reset_index(drop=False)\n",
    "df5.columns = ['Borough', 'vehicles', 'Count']"
   ]
  },
  {
   "cell_type": "code",
   "execution_count": 5,
   "metadata": {
    "collapsed": false
   },
   "outputs": [],
   "source": [
    "#Pivot table to get the lateral view of data\n",
    "\n",
    "df6 = df5.pivot_table('Count', ['Borough'], 'vehicles')\n",
    "df7 = df6.reset_index(drop=False)"
   ]
  },
  {
   "cell_type": "code",
   "execution_count": 6,
   "metadata": {
    "collapsed": false
   },
   "outputs": [],
   "source": [
    "#Re-assign column names for futher reference\n",
    "\n",
    "df7.columns=['Borough','Zero','One','Two','Three','Four','Five']"
   ]
  },
  {
   "cell_type": "code",
   "execution_count": 7,
   "metadata": {
    "collapsed": false
   },
   "outputs": [],
   "source": [
    "#Sum up the data for More than 3 vehicles involved data\n",
    "\n",
    "df7['More_Vehicles_Involved'] = df7['Zero'] + df7['Four'] + df7['Five']"
   ]
  },
  {
   "cell_type": "code",
   "execution_count": 8,
   "metadata": {
    "collapsed": false
   },
   "outputs": [],
   "source": [
    "#Remove unwanted columns\n",
    "\n",
    "del df7['Zero']\n",
    "del df7['Four']\n",
    "del df7['Five']"
   ]
  },
  {
   "cell_type": "code",
   "execution_count": 9,
   "metadata": {
    "collapsed": false
   },
   "outputs": [
    {
     "data": {
      "text/html": [
       "<div>\n",
       "<table border=\"1\" class=\"dataframe\">\n",
       "  <thead>\n",
       "    <tr style=\"text-align: right;\">\n",
       "      <th></th>\n",
       "      <th>Borough</th>\n",
       "      <th>One_Vehicle_Involved</th>\n",
       "      <th>Two_Vehicles_Involved</th>\n",
       "      <th>Three_Vehicles_Involved</th>\n",
       "      <th>More_Vehicles_Involved</th>\n",
       "    </tr>\n",
       "  </thead>\n",
       "  <tbody>\n",
       "    <tr>\n",
       "      <th>0</th>\n",
       "      <td>BRONX</td>\n",
       "      <td>8627</td>\n",
       "      <td>34385</td>\n",
       "      <td>1962</td>\n",
       "      <td>1150</td>\n",
       "    </tr>\n",
       "    <tr>\n",
       "      <th>1</th>\n",
       "      <td>BROOKLYN</td>\n",
       "      <td>17375</td>\n",
       "      <td>80207</td>\n",
       "      <td>4980</td>\n",
       "      <td>2399</td>\n",
       "    </tr>\n",
       "    <tr>\n",
       "      <th>2</th>\n",
       "      <td>MANHATTAN</td>\n",
       "      <td>13318</td>\n",
       "      <td>66958</td>\n",
       "      <td>2024</td>\n",
       "      <td>1302</td>\n",
       "    </tr>\n",
       "    <tr>\n",
       "      <th>3</th>\n",
       "      <td>QUEENS</td>\n",
       "      <td>12962</td>\n",
       "      <td>70260</td>\n",
       "      <td>4498</td>\n",
       "      <td>1935</td>\n",
       "    </tr>\n",
       "    <tr>\n",
       "      <th>4</th>\n",
       "      <td>STATEN ISLAND</td>\n",
       "      <td>2343</td>\n",
       "      <td>10676</td>\n",
       "      <td>759</td>\n",
       "      <td>270</td>\n",
       "    </tr>\n",
       "  </tbody>\n",
       "</table>\n",
       "</div>"
      ],
      "text/plain": [
       "         Borough  One_Vehicle_Involved  Two_Vehicles_Involved  \\\n",
       "0          BRONX                  8627                  34385   \n",
       "1       BROOKLYN                 17375                  80207   \n",
       "2      MANHATTAN                 13318                  66958   \n",
       "3         QUEENS                 12962                  70260   \n",
       "4  STATEN ISLAND                  2343                  10676   \n",
       "\n",
       "   Three_Vehicles_Involved  More_Vehicles_Involved  \n",
       "0                     1962                    1150  \n",
       "1                     4980                    2399  \n",
       "2                     2024                    1302  \n",
       "3                     4498                    1935  \n",
       "4                      759                     270  "
      ]
     },
     "execution_count": 9,
     "metadata": {},
     "output_type": "execute_result"
    }
   ],
   "source": [
    "df7.columns=['Borough','One_Vehicle_Involved','Two_Vehicles_Involved','Three_Vehicles_Involved','More_Vehicles_Involved']\n",
    "df7.head()"
   ]
  },
  {
   "cell_type": "code",
   "execution_count": 10,
   "metadata": {
    "collapsed": true
   },
   "outputs": [],
   "source": [
    "df7.to_csv(\"Assignment3\\\\Results\\\\P1.2_Results.csv\", sep=',', encoding='utf-8')"
   ]
  }
 ],
 "metadata": {
  "anaconda-cloud": {},
  "kernelspec": {
   "display_name": "Python [conda root]",
   "language": "python",
   "name": "conda-root-py"
  },
  "language_info": {
   "codemirror_mode": {
    "name": "ipython",
    "version": 3
   },
   "file_extension": ".py",
   "mimetype": "text/x-python",
   "name": "python",
   "nbconvert_exporter": "python",
   "pygments_lexer": "ipython3",
   "version": "3.5.2"
  }
 },
 "nbformat": 4,
 "nbformat_minor": 1
}
