{
 "cells": [
  {
   "cell_type": "code",
   "execution_count": 1,
   "metadata": {
    "collapsed": false,
    "scrolled": true
   },
   "outputs": [
    {
     "name": "stdout",
     "output_type": "stream",
     "text": [
      "Webtext has following files under it ['firefox.txt', 'grail.txt', 'overheard.txt', 'pirates.txt', 'singles.txt', 'wine.txt']\n",
      "Will Turner has 133 dialogues\n",
      "And Jack Sparrow has 193 dialogues\n",
      "Jack Sparrow is the lead.\n"
     ]
    }
   ],
   "source": [
    "import re\n",
    "\n",
    "from nltk.corpus import webtext\n",
    "\n",
    "print('Webtext has following files under it',webtext.fileids())\n",
    "\n",
    "pirates = webtext.raw('pirates.txt')\n",
    "\n",
    "will_count = len([m.start() for m in re.finditer('WILL TURNER:', pirates)]) #use regex to find the no. dialogues Will has\n",
    "print('Will Turner has',will_count,'dialogues')\n",
    "\n",
    "jack_count = len([m.start() for m in re.finditer('JACK SPARROW:', pirates)]) #use regex to find the no. dialogues Jack has\n",
    "print('And Jack Sparrow has',jack_count,'dialogues')\n",
    "\n",
    "if jack_count > will_count:\n",
    "    print('Jack Sparrow is the lead.')\n",
    "else:\n",
    "    print('Will Turner is the lead.')\n",
    "\n",
    "\n"
   ]
  }
 ],
 "metadata": {
  "anaconda-cloud": {},
  "kernelspec": {
   "display_name": "Python [conda root]",
   "language": "python",
   "name": "conda-root-py"
  },
  "language_info": {
   "codemirror_mode": {
    "name": "ipython",
    "version": 3
   },
   "file_extension": ".py",
   "mimetype": "text/x-python",
   "name": "python",
   "nbconvert_exporter": "python",
   "pygments_lexer": "ipython3",
   "version": "3.5.2"
  }
 },
 "nbformat": 4,
 "nbformat_minor": 1
}
