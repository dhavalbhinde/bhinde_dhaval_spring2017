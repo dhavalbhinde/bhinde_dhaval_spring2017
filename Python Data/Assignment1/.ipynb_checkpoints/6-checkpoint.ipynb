{
 "cells": [
  {
   "cell_type": "code",
   "execution_count": 48,
   "metadata": {
    "collapsed": false
   },
   "outputs": [
    {
     "name": "stdout",
     "output_type": "stream",
     "text": [
      "The number of unique words spoken by President Coolidge are 1159\n",
      "The number of unique words spoken by President Madison are 1038\n",
      "The number of unique words spoken by President Jackson are 974\n",
      "The number of unique words spoken by President Bush are 2058\n",
      "The number of unique words spoken by President Monroe are 2172\n",
      "The number of unique words spoken by President Harrison are 3116\n",
      "The number of unique words spoken by President Nixon are 1214\n",
      "The number of unique words spoken by President Hayes are 802\n",
      "The number of unique words spoken by President Buchanan are 892\n",
      "The number of unique words spoken by President Jefferson are 1456\n",
      "The number of unique words spoken by President Lincoln are 1343\n",
      "The number of unique words spoken by President McKinley are 1986\n",
      "The number of unique words spoken by President Johnson are 526\n",
      "The number of unique words spoken by President Reagan are 1697\n",
      "The number of unique words spoken by President Hoover are 997\n",
      "The number of unique words spoken by President Garfield are 969\n",
      "The number of unique words spoken by President Cleveland are 1442\n",
      "The number of unique words spoken by President Obama are 893\n",
      "The number of unique words spoken by President VanBuren are 1252\n",
      "The number of unique words spoken by President Adams are 1756\n",
      "The number of unique words spoken by President Harding are 1117\n",
      "The number of unique words spoken by President Truman are 742\n",
      "The number of unique words spoken by President Clinton are 1315\n",
      "The number of unique words spoken by President Wilson are 1150\n",
      "The number of unique words spoken by President Roosevelt are 2523\n",
      "The number of unique words spoken by President Pierce are 1113\n",
      "The number of unique words spoken by President Polk are 1262\n",
      "The number of unique words spoken by President Carter are 489\n",
      "The number of unique words spoken by President Kennedy are 534\n",
      "The number of unique words spoken by President Taylor are 480\n",
      "The number of unique words spoken by President Eisenhower are 1432\n",
      "The number of unique words spoken by President Grant are 986\n",
      "The number of unique words spoken by President Washington are 685\n",
      "The number of unique words spoken by President Taft are 1374\n"
     ]
    }
   ],
   "source": [
    "from nltk.corpus import inaugural\n",
    "import re\n",
    "from functools import reduce\n",
    "\n",
    "regex = re.compile(\"[^a-zA-Z\\s]\")\n",
    "pres_unique_words = {}\n",
    "\n",
    "#Step1: clean the corpus \n",
    "#Step2: make a for loop to iterate all fileids to get each inaugural corpus\n",
    "#Step3: iterate each word and add it into the list and after that into a set for unique words only\n",
    "#Step4: Add len() function to get the unique count \n",
    "#Step5: Add President name and count of unique words into a Dictionary, take special care to check the sum of words of Presidents\n",
    "#       who have 2 terms.\n",
    "\n",
    "for fileid in inaugural.fileids():\n",
    "    word_list = set()\n",
    "    president_words = re.sub(\"'\",\"\",inaugural.raw(fileid))\n",
    "    president_words = president_words.lower()\n",
    "    president_words = regex.sub('', president_words)\n",
    "    president_wordList = re.sub(\"[^\\w]\", \" \",  president_words).split()\n",
    "    for words in president_wordList:\n",
    "        if words not in word_list:\n",
    "              word_list.add(words)\n",
    "    words_list = [x for x in word_list if x]            \n",
    "#     print('The number of unique words in',fileid,'are',len(word_list))\n",
    "    count=len(word_list)\n",
    "    pres=(re.findall(r'\\d{4}-(.*).txt', fileid))\n",
    "    pres=pres[0]\n",
    "    if pres in pres_unique_words:\n",
    "        pres_unique_words[pres]+=count\n",
    "    else:    \n",
    "        pres_unique_words.update({pres : count})        \n",
    "        \n",
    "for k, v in pres_unique_words.items():    \n",
    "    print('The number of unique words spoken by President',k,'are',v)\n"
   ]
  }
 ],
 "metadata": {
  "anaconda-cloud": {},
  "kernelspec": {
   "display_name": "Python [conda root]",
   "language": "python",
   "name": "conda-root-py"
  },
  "language_info": {
   "codemirror_mode": {
    "name": "ipython",
    "version": 3
   },
   "file_extension": ".py",
   "mimetype": "text/x-python",
   "name": "python",
   "nbconvert_exporter": "python",
   "pygments_lexer": "ipython3",
   "version": "3.5.2"
  }
 },
 "nbformat": 4,
 "nbformat_minor": 1
}
