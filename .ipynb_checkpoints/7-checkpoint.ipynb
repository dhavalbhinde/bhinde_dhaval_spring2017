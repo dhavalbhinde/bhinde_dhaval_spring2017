{
 "cells": [
  {
   "cell_type": "code",
   "execution_count": 2,
   "metadata": {
    "collapsed": false
   },
   "outputs": [
    {
     "name": "stdout",
     "output_type": "stream",
     "text": [
      "Char.\t Male_Prob\t Female_Prob.\n",
      "i \t 13.62 \t\t 86.38\n",
      "j \t 75.0 \t\t 25.0\n",
      "e \t 24.63 \t\t 75.37\n",
      "f \t 92.59 \t\t 7.41\n",
      "y \t 41.87 \t\t 58.13\n",
      "c \t 100.0 \t\t 0.0\n",
      "g \t 76.19 \t\t 23.81\n",
      "n \t 55.32 \t\t 44.68\n",
      "x \t 50.0 \t\t 50.0\n",
      "v \t 88.89 \t\t 11.11\n",
      "l \t 51.09 \t\t 48.91\n",
      "u \t 66.67 \t\t 33.33\n",
      "k \t 95.83 \t\t 4.17\n",
      "d \t 85.39 \t\t 14.61\n",
      "p \t 90.0 \t\t 10.0\n",
      "z \t 73.33 \t\t 26.67\n",
      "a \t 1.61 \t\t 98.39\n",
      "t \t 70.69 \t\t 29.31\n",
      "q \t 0 \t\t 0\n",
      "o \t 83.33 \t\t 16.67\n",
      "h \t 46.97 \t\t 53.03\n",
      "m \t 84.34 \t\t 15.66\n",
      "w \t 77.27 \t\t 22.73\n",
      "b \t 70.0 \t\t 30.0\n",
      "r \t 80.17 \t\t 19.83\n",
      "s \t 71.21 \t\t 28.79\n"
     ]
    }
   ],
   "source": [
    "import nltk\n",
    "import string\n",
    "nltk.corpus.names.fileids()\n",
    "\n",
    "female_list = nltk.corpus.names.words('female.txt')   \n",
    "male_list = nltk.corpus.names.words('male.txt')\n",
    "\n",
    "# Count of female names \n",
    "\n",
    "letter_count_female = dict([(chr(i),0) for i in range(97,123)])\n",
    "for key in letter_count_female:\n",
    "    for f in female_list:\n",
    "        if f[-1:].endswith(key):\n",
    "            letter_count_female[key]+=1\n",
    "\n",
    "# Count of male names\n",
    "\n",
    "letter_count_male = dict([(chr(i),0) for i in range(97,123)])\n",
    "for key in letter_count_male:\n",
    "    for f in male_list:\n",
    "        if f[-1:].endswith(key):\n",
    "            letter_count_male[key]+=1\n",
    "\n",
    "print('Char.\\t', 'Male_Prob\\t', 'Female_Prob.')\n",
    "\n",
    "# for loop to calculate probability\n",
    "for key in letter_count_female:\n",
    "    try:                              \n",
    "        male_prob = 100 * (letter_count_male[key]/(letter_count_male[key] +letter_count_female[key] ))\n",
    "        female_prob = 100 * ( (letter_count_female[key])/(letter_count_male[key] +letter_count_female[key] ))\n",
    "    except ZeroDivisionError:\n",
    "        male_prob =0\n",
    "        female_prob =0\n",
    "    \n",
    "    print(key,'\\t',round(male_prob, 2),'\\t\\t',round(female_prob,2))\n",
    "\n",
    "\n"
   ]
  }
 ],
 "metadata": {
  "anaconda-cloud": {},
  "kernelspec": {
   "display_name": "Python [conda root]",
   "language": "python",
   "name": "conda-root-py"
  },
  "language_info": {
   "codemirror_mode": {
    "name": "ipython",
    "version": 3
   },
   "file_extension": ".py",
   "mimetype": "text/x-python",
   "name": "python",
   "nbconvert_exporter": "python",
   "pygments_lexer": "ipython3",
   "version": "3.5.2"
  }
 },
 "nbformat": 4,
 "nbformat_minor": 1
}
