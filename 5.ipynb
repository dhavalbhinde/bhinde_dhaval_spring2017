{
 "cells": [
  {
   "cell_type": "code",
   "execution_count": 22,
   "metadata": {
    "collapsed": false
   },
   "outputs": [
    {
     "name": "stdout",
     "output_type": "stream",
     "text": [
      "Top 50 High Frequency Words of WebText are: [('girl', 2949), ('guy', 2740), ('like', 1695), ('dont', 1248), ('im', 1168), ('man', 1063), ('know', 1016), ('woman', 991), ('yeah', 894), ('page', 883), ('firefox', 871), ('get', 868), ('new', 789), ('chick', 713), ('one', 690), ('oh', 681), ('open', 678), ('window', 669), ('good', 643), ('doesnt', 629), ('well', 619), ('bookmarks', 598), ('teen', 586), ('cell', 576), ('firebird', 576), ('right', 574), ('go', 563), ('cant', 560), ('work', 535), ('bar', 533), ('menu', 526), ('thats', 524), ('tab', 523), ('lady', 521), ('toolbar', 513), ('youre', 491), ('want', 487), ('boy', 486), ('think', 483), ('browser', 481), ('bookmark', 480), ('old', 474), ('really', 471), ('jack', 464), ('going', 459), ('download', 441), ('back', 433), ('time', 431), ('url', 429), ('black', 421)]\n",
      "\n",
      "Top 50 High Frequency Words of shakespeare are: [('haue', 443), ('ham', 336), ('thou', 306), ('shall', 299), ('lord', 292), ('come', 231), ('enter', 229), ('king', 228), ('good', 217), ('thy', 201), ('let', 192), ('caesar', 192), ('vs', 178), ('thee', 173), ('know', 169), ('brutus', 161), ('like', 161), ('would', 158), ('vpon', 154), ('bru', 152), ('well', 151), ('hath', 143), ('selfe', 142), ('man', 138), ('macb', 136), ('yet', 135), ('may', 132), ('must', 129), ('tis', 128), ('say', 126), ('heere', 122), ('speake', 118), ('loue', 118), ('make', 117), ('giue', 117), ('time', 114), ('night', 113), ('sir', 113), ('see', 112), ('one', 111), ('cassi', 106), ('ile', 105), ('doe', 101), ('go', 99), ('hamlet', 99), ('men', 95), ('hor', 94), ('vp', 93), ('tell', 90), ('mine', 90)]\n",
      "\n",
      "The Unused Shakespeare list from TOP 50 is as follows: ['enter', 'mine', 'sir', 'ile', 'vs', 'come', 'make', 'ham', 'doe', 'giue', 'night', 'must', 'speake', 'vpon', 'heere', 'loue', 'yet', 'hor', 'see', 'thee', 'vp', 'lord', 'haue', 'men', 'bru', 'may', 'selfe', 'hath', 'king', 'thy', 'let', 'cassi', 'brutus', 'would', 'thou', 'shall', 'say', 'tell', 'caesar', 'hamlet', 'macb', 'tis']\n",
      "\n",
      "Top 5 elemets are: ['enter', 'mine', 'sir', 'ile', 'vs']\n",
      "\n",
      "The top 5 words that Shakespeare used but we do not are: [('haue', 443), ('brutus', 161), ('vpon', 154), ('bru', 152), ('hath', 143)]\n"
     ]
    }
   ],
   "source": [
    "from nltk.corpus import stopwords\n",
    "import nltk\n",
    "import re\n",
    "from nltk.corpus import webtext\n",
    "from collections import Counter\n",
    "import operator\n",
    "\n",
    "webtext_words = webtext.raw(fileids=['firefox.txt', 'grail.txt', 'overheard.txt', 'pirates.txt', 'singles.txt', 'wine.txt'])\n",
    "webtext_words = re.sub(\"'\",\"\",webtext_words)\n",
    "webtext_words = webtext_words.lower()\n",
    "webtext_wordList = re.sub(\"[^\\w]\", \" \",  webtext_words).split()\n",
    "webtext_wordList = [word for word in webtext_wordList if word not in stopwords.words('english')]\n",
    "\n",
    "\n",
    "regex = re.compile(\"[^a-zA-Z]\")\n",
    "\n",
    "frequency_words_webtext = {}        \n",
    "for words in webtext_wordList:         \n",
    "    words = [regex.sub('', words)] \n",
    "    words2 = [x for x in words if x] #to delete '' empty elements from the list\n",
    "    for z in words2:\n",
    "        if z not in frequency_words_webtext:  \n",
    "            frequency_words_webtext[z] = 0\n",
    "        else: frequency_words_webtext[z]+=1    \n",
    "\n",
    "# Get top 50 high frquency words\n",
    "print('Top 50 High Frequency Words of WebText are:', sorted(frequency_words_webtext.items(), key=lambda x:x[1],reverse=True)[:50])\n",
    "\n",
    "web_top50 = dict(sorted(frequency_words_webtext.items(), key=operator.itemgetter(1), reverse=True)[:50])\n",
    "\n",
    "shakespeare_words = nltk.corpus.gutenberg.raw(fileids=['shakespeare-caesar.txt', 'shakespeare-hamlet.txt','shakespeare-macbeth.txt'])\n",
    "shakespeare_words = re.sub(\"'\",\"\",shakespeare_words)\n",
    "shakespeare_words = shakespeare_words.lower()\n",
    "shakespeare_wordList = re.sub(\"[^\\w]\", \" \",  shakespeare_words).split()\n",
    "shakespeare_wordList = [word for word in shakespeare_wordList if word not in stopwords.words('english')]\n",
    "\n",
    "\n",
    "frequency_words_shakespeare = {}        \n",
    "for words in shakespeare_wordList:         \n",
    "    words = [regex.sub('', words)] \n",
    "    words2 = [x for x in words if x] #to delete '' empty elements from the list\n",
    "    for z in words2:\n",
    "        if z not in frequency_words_shakespeare:  \n",
    "            frequency_words_shakespeare[z] = 0\n",
    "        else: frequency_words_shakespeare[z]+=1    \n",
    "\n",
    "    \n",
    "# #Get top 50 high frquency words\n",
    "print('\\n' + 'Top 50 High Frequency Words of shakespeare are:', sorted(frequency_words_shakespeare.items(), key=lambda x:x[1],reverse=True)[:50])\n",
    "\n",
    "shakespeare_top50 = dict(sorted(frequency_words_shakespeare.items(), key=operator.itemgetter(1), reverse=True)[:50])\n",
    "\n",
    "# Comparison of 2 word lists (Shakespeare & Webtext)\n",
    "gen = (x for x in shakespeare_top50 if x not in web_top50)\n",
    "gen = list(gen)\n",
    "print('\\n'+'The Unused Shakespeare list from TOP 50 is as follows:',gen)\n",
    "    \n",
    "# Top 5 elements fom the unsued list - Shakespeare     \n",
    "print('\\n'+'Top 5 elemets are:',gen[:5])\n",
    "\n",
    "\n",
    "# Comparison of 2 word lists (Shakespeare & Webtext)\n",
    "gen2 = (x for x in shakespeare_wordList if x not in webtext_wordList)\n",
    "gen2 = list(gen2)\n",
    "\n",
    "# Top 5 elements fom the unsued list - Shakespeare     \n",
    "frequency_words_shakespeare2 = {}        \n",
    "for word2 in gen2:         \n",
    "        if word2 not in frequency_words_shakespeare2:  \n",
    "            frequency_words_shakespeare2[word2] = 0\n",
    "        else: frequency_words_shakespeare2[word2]+=1   \n",
    "\n",
    "print('\\n' + 'The top 5 words that Shakespeare used but we do not are:', sorted(frequency_words_shakespeare2.items(), key=lambda x:x[1],reverse=True)[:5])\n"
   ]
  }
 ],
 "metadata": {
  "anaconda-cloud": {},
  "kernelspec": {
   "display_name": "Python [conda root]",
   "language": "python",
   "name": "conda-root-py"
  },
  "language_info": {
   "codemirror_mode": {
    "name": "ipython",
    "version": 3
   },
   "file_extension": ".py",
   "mimetype": "text/x-python",
   "name": "python",
   "nbconvert_exporter": "python",
   "pygments_lexer": "ipython3",
   "version": "3.5.2"
  }
 },
 "nbformat": 4,
 "nbformat_minor": 1
}
