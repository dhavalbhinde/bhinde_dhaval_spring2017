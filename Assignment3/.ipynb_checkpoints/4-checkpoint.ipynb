{
 "cells": [
  {
   "cell_type": "code",
   "execution_count": 113,
   "metadata": {
    "collapsed": false
   },
   "outputs": [
    {
     "name": "stdout",
     "output_type": "stream",
     "text": [
      "complete\n"
     ]
    }
   ],
   "source": [
    "import os\n",
    "import pandas as pd\n",
    "import numpy as np\n",
    "\n",
    "pd.options.mode.chained_assignment = None  # default='warn'\n",
    "\n",
    "try:\n",
    "    os.chdir('C:/Users/Dhaval/Python_Data/bhinde_dhaval_spring2017/') # making changes to cwd for local reference\n",
    "except:\n",
    "    pass\n",
    "\n",
    "\n",
    "df1=pd.read_csv(\"Assignment3\\\\Data\\\\movies_awards.csv\")\n",
    "df2=df1[['Awards']]\n",
    "\n",
    "df2['Awards_won'] = df2['Awards'].str.extract('(\\d+\\swin)', expand=True)\n",
    "df2['Awards_won'] = df2['Awards_won'].str.extract('(\\d+)', expand=True)\n",
    "\n",
    "df2['Awards_nominated'] = df2['Awards'].str.extract('(\\d+\\snomination)', expand=True)\n",
    "df2['Awards_nominated'] = df2['Awards_nominated'].str.extract('(\\d+)', expand=True)\n",
    "\n",
    "df2['Oscar_Awards_nominated'] = df2['Awards'].str.extract('(Nominated\\sfor\\s\\d+\\sO)', expand=True)\n",
    "df2['Oscar_Awards_nominated'] = df2['Oscar_Awards_nominated'].str.extract('(\\d+)', expand=True)\n",
    "\n",
    "df2['Oscar_Awards_won'] = df2['Awards'].str.extract('(Won\\s\\d+\\sO)', expand=True)\n",
    "df2['Oscar_Awards_won'] = df2['Oscar_Awards_won'].str.extract('(\\d+)', expand=True)\n",
    "\n",
    "df2['BAFTA_Awards_nominated'] = df2['Awards'].str.extract('(Nominated\\sfor\\s\\d+\\sB)', expand=True)\n",
    "df2['BAFTA_Awards_nominated'] = df2['BAFTA_Awards_nominated'].str.extract('(\\d+)', expand=True)\n",
    "\n",
    "df2['BAFTA_Awards_won'] = df2['Awards'].str.extract('(Won\\s\\d+\\sB)', expand=True)\n",
    "df2['BAFTA_Awards_won'] = df2['BAFTA_Awards_won'].str.extract('(\\d+)', expand=True)\n",
    "\n",
    "df2['Golden_Globe_Awards_nominated'] = df2['Awards'].str.extract('(Nominated\\sfor\\s\\d+\\sG)', expand=True)\n",
    "df2['Golden_Globe_Awards_nominated'] = df2['Golden_Globe_Awards_nominated'].str.extract('(\\d+)', expand=True)\n",
    "\n",
    "df2['Golden_Globe_Awards_won'] = df2['Awards'].str.extract('(Won\\s\\d+\\sG)', expand=True)\n",
    "df2['Golden_Globe_Awards_won'] = df2['Golden_Globe_Awards_won'].str.extract('(\\d+)', expand=True)\n",
    "\n",
    "df2['Primetime_Emmy_Awards_nominated'] = df2['Awards'].str.extract('(Nominated\\sfor\\s\\d+\\sP)', expand=True)\n",
    "df2['Primetime_Emmy_Awards_nominated'] = df2['Primetime_Emmy_Awards_nominated'].str.extract('(\\d+)', expand=True)\n",
    "\n",
    "df2['Primetime_Emmy_Awards_won'] = df2['Awards'].str.extract('(Won\\s\\d+\\sP)', expand=True)\n",
    "df2['Primetime_Emmy_Awards_won'] = df2['Primetime_Emmy_Awards_won'].str.extract('(\\d+)', expand=True)\n",
    "\n",
    "print('complete')"
   ]
  },
  {
   "cell_type": "code",
   "execution_count": 114,
   "metadata": {
    "collapsed": false
   },
   "outputs": [],
   "source": [
    "# df2.apply(pd.to_numeric, errors='ignore')\n",
    "\n",
    "df2[['Awards_won','Awards_nominated','Oscar_Awards_nominated','Oscar_Awards_won','BAFTA_Awards_nominated','BAFTA_Awards_won',\n",
    "      'Golden_Globe_Awards_nominated','Golden_Globe_Awards_won','Primetime_Emmy_Awards_nominated',\n",
    "    'Primetime_Emmy_Awards_won']] = df2[['Awards_won','Awards_nominated','Oscar_Awards_nominated','Oscar_Awards_won','BAFTA_Awards_nominated','BAFTA_Awards_won',\n",
    "      'Golden_Globe_Awards_nominated','Golden_Globe_Awards_won','Primetime_Emmy_Awards_nominated',\n",
    "    'Primetime_Emmy_Awards_won']].apply(pd.to_numeric)"
   ]
  },
  {
   "cell_type": "code",
   "execution_count": 115,
   "metadata": {
    "collapsed": false
   },
   "outputs": [],
   "source": [
    "df2['Awards_won'] = df2.fillna(0)['Awards_won'] + df2.fillna(0)['Oscar_Awards_won'] + df2.fillna(0)['BAFTA_Awards_won'] \\\n",
    "                    + df2.fillna(0)['Golden_Globe_Awards_won'] + df2.fillna(0)['Primetime_Emmy_Awards_won']\n",
    "    \n",
    "df2['Awards_nominated'] = df2.fillna(0)['Awards_nominated'] + df2.fillna(0)['Oscar_Awards_nominated'] + \\\n",
    "                          df2.fillna(0)['BAFTA_Awards_nominated'] + df2.fillna(0)['Golden_Globe_Awards_nominated'] + \\\n",
    "                          df2.fillna(0)['Primetime_Emmy_Awards_nominated']"
   ]
  },
  {
   "cell_type": "code",
   "execution_count": 118,
   "metadata": {
    "collapsed": false
   },
   "outputs": [],
   "source": [
    "df2 = df2[pd.notnull(df2['Awards'])]\n",
    "df2 = df2.fillna(0)\n",
    "df2 = df2.reset_index()\n",
    "del df2['index']"
   ]
  },
  {
   "cell_type": "code",
   "execution_count": 120,
   "metadata": {
    "collapsed": false
   },
   "outputs": [],
   "source": [
    "df2.to_csv(\"Assignment3\\\\Results\\\\P4_Results.csv\", sep=',', encoding='utf-8')"
   ]
  }
 ],
 "metadata": {
  "anaconda-cloud": {},
  "kernelspec": {
   "display_name": "Python [conda root]",
   "language": "python",
   "name": "conda-root-py"
  },
  "language_info": {
   "codemirror_mode": {
    "name": "ipython",
    "version": 3
   },
   "file_extension": ".py",
   "mimetype": "text/x-python",
   "name": "python",
   "nbconvert_exporter": "python",
   "pygments_lexer": "ipython3",
   "version": "3.5.2"
  }
 },
 "nbformat": 4,
 "nbformat_minor": 1
}
