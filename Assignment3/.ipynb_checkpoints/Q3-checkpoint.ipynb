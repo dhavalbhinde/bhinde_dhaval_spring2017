{
 "cells": [
  {
   "cell_type": "code",
   "execution_count": 5,
   "metadata": {
    "collapsed": false
   },
   "outputs": [
    {
     "name": "stdout",
     "output_type": "stream",
     "text": [
      "complete\n"
     ]
    }
   ],
   "source": [
    "import os\n",
    "import pandas as pd\n",
    "import numpy as np\n",
    "\n",
    "try:\n",
    "    os.chdir('C:/Users/Dhaval/Python_Data/bhinde_dhaval_spring2017/') # making changes to cwd for local reference\n",
    "except:\n",
    "    pass\n",
    "\n",
    "\n",
    "df1=pd.read_csv(\"Assignment3\\\\Data\\\\cricket_matches.csv\") #Read CSV\n",
    "df2= df1[['home','winner','innings1','innings1_runs','innings2','innings2_runs']] #Extract required column data\n",
    "\n",
    "print(\"complete\")\n"
   ]
  },
  {
   "cell_type": "code",
   "execution_count": 6,
   "metadata": {
    "collapsed": false
   },
   "outputs": [
    {
     "data": {
      "text/html": [
       "<div>\n",
       "<table border=\"1\" class=\"dataframe\">\n",
       "  <thead>\n",
       "    <tr style=\"text-align: right;\">\n",
       "      <th></th>\n",
       "      <th>Team</th>\n",
       "      <th>Average Runs</th>\n",
       "    </tr>\n",
       "  </thead>\n",
       "  <tbody>\n",
       "    <tr>\n",
       "      <th>0</th>\n",
       "      <td>Abahani Limited</td>\n",
       "      <td>172.000000</td>\n",
       "    </tr>\n",
       "    <tr>\n",
       "      <th>1</th>\n",
       "      <td>Abbottabad Falcons</td>\n",
       "      <td>139.454545</td>\n",
       "    </tr>\n",
       "    <tr>\n",
       "      <th>2</th>\n",
       "      <td>Abbottabad Region</td>\n",
       "      <td>182.666667</td>\n",
       "    </tr>\n",
       "    <tr>\n",
       "      <th>3</th>\n",
       "      <td>Abbottabad Rhinos</td>\n",
       "      <td>165.000000</td>\n",
       "    </tr>\n",
       "    <tr>\n",
       "      <th>4</th>\n",
       "      <td>Adelaide Strikers</td>\n",
       "      <td>163.111111</td>\n",
       "    </tr>\n",
       "  </tbody>\n",
       "</table>\n",
       "</div>"
      ],
      "text/plain": [
       "                 Team  Average Runs\n",
       "0     Abahani Limited    172.000000\n",
       "1  Abbottabad Falcons    139.454545\n",
       "2   Abbottabad Region    182.666667\n",
       "3   Abbottabad Rhinos    165.000000\n",
       "4   Adelaide Strikers    163.111111"
      ]
     },
     "execution_count": 6,
     "metadata": {},
     "output_type": "execute_result"
    }
   ],
   "source": [
    "df2 = df2[(df2[\"home\"]==df2[\"winner\"])]  # Extract data where Host Team is the Winner Team\n",
    "\n",
    "df2_innings1 = df2[(df2[\"winner\"]==df2[\"innings1\"])]   # Get Innings1 data where Host Team has played Innings1\n",
    "df2_innings2 = df2[(df2[\"winner\"]==df2[\"innings2\"])]   # Get Innings2 data where Host Team has played Innings2\n",
    "\n",
    "df2_innings1 = df2_innings1[['winner','innings1_runs']]  # Extract required columns only\n",
    "df2_innings2 = df2_innings2[['winner','innings2_runs']]  # Extract required columns only\n",
    "\n",
    "df2_innings1.columns=['winner','runs']  #Re-assign column names for further reference\n",
    "df2_innings2.columns=['winner','runs']  #Re-assign column names for further reference\n",
    "\n",
    "df3 = pd.concat([df2_innings1,df2_innings2])  #Concatenate 2 dataframes to combine innings 1 & 2 data\n",
    "\n",
    "df_x1 = df3.groupby(df3['winner']).mean()  # Get Average runs by Winner team\n",
    "\n",
    "df_x1 = df_x1.reset_index()                #Restting index to get filtered data\n",
    "df_x1.columns = ['Team','Average Runs']\n",
    "\n",
    "df_x1.to_csv(\"Assignment3\\\\Results\\\\P3_Results.csv\", sep=',', encoding='utf-8')\n",
    "df_x1.head()\n",
    "\n",
    "\n"
   ]
  }
 ],
 "metadata": {
  "anaconda-cloud": {},
  "kernelspec": {
   "display_name": "Python [conda root]",
   "language": "python",
   "name": "conda-root-py"
  },
  "language_info": {
   "codemirror_mode": {
    "name": "ipython",
    "version": 3
   },
   "file_extension": ".py",
   "mimetype": "text/x-python",
   "name": "python",
   "nbconvert_exporter": "python",
   "pygments_lexer": "ipython3",
   "version": "3.5.2"
  }
 },
 "nbformat": 4,
 "nbformat_minor": 1
}
