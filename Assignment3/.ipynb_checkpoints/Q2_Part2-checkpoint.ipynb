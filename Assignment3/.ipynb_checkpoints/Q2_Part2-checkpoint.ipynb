{
 "cells": [
  {
   "cell_type": "code",
   "execution_count": 117,
   "metadata": {
    "collapsed": false
   },
   "outputs": [],
   "source": [
    "import os\n",
    "import pandas as pd\n",
    "import numpy as np\n",
    "\n",
    "pd.options.mode.chained_assignment = None  # default='warn'\n",
    "\n",
    "try:\n",
    "    os.chdir('C:/Users/Dhaval/Python_Data/bhinde_dhaval_spring2017/') # making changes to cwd for local reference\n",
    "except:\n",
    "    pass\n",
    "\n",
    "\n",
    "df1=pd.read_csv(\"Assignment3\\\\Data\\\\employee_compensation.csv\") #Read CSV\n",
    "df1 = df1.loc[df1['Year Type'] == 'Calendar'] # Filter out fiscal year data\n",
    "\n"
   ]
  },
  {
   "cell_type": "code",
   "execution_count": 118,
   "metadata": {
    "collapsed": false
   },
   "outputs": [],
   "source": [
    "#Get mean of all salaries for every employee\n",
    "\n",
    "df2 = df1[['Employee Identifier','Job Family','Salaries','Overtime','Other Salaries','Total Salary','Retirement','Health/Dental','Other Benefits','Total Benefits',\\\n",
    "     'Total Compensation']].groupby(['Employee Identifier','Job Family']).mean()\n"
   ]
  },
  {
   "cell_type": "code",
   "execution_count": 119,
   "metadata": {
    "collapsed": false
   },
   "outputs": [],
   "source": [
    "# Find Employees whose overtime salaries are greater than 5% of Salaries\n",
    "\n",
    "df3 = df2[df2['Overtime'] > 0.05*df2['Salaries']]"
   ]
  },
  {
   "cell_type": "code",
   "execution_count": 120,
   "metadata": {
    "collapsed": false
   },
   "outputs": [],
   "source": [
    "#Reset Index\n",
    "\n",
    "df3 = df3.reset_index(drop=False)"
   ]
  },
  {
   "cell_type": "code",
   "execution_count": 121,
   "metadata": {
    "collapsed": false
   },
   "outputs": [],
   "source": [
    "#Extract required columns only\n",
    "\n",
    "df4 = df3[['Job Family','Total Benefits','Total Compensation']]"
   ]
  },
  {
   "cell_type": "code",
   "execution_count": 122,
   "metadata": {
    "collapsed": false
   },
   "outputs": [],
   "source": [
    "# Calculcate mean of 'Total Benefits','Total Compensation' grouped by Job Family.\n",
    "\n",
    "df5 = df4.groupby(['Job Family']).mean()"
   ]
  },
  {
   "cell_type": "code",
   "execution_count": 123,
   "metadata": {
    "collapsed": false
   },
   "outputs": [
    {
     "data": {
      "text/html": [
       "<div>\n",
       "<table border=\"1\" class=\"dataframe\">\n",
       "  <thead>\n",
       "    <tr style=\"text-align: right;\">\n",
       "      <th></th>\n",
       "      <th>Total Benefits</th>\n",
       "      <th>Total Compensation</th>\n",
       "      <th>Percent_Total_Benefit</th>\n",
       "    </tr>\n",
       "    <tr>\n",
       "      <th>Job Family</th>\n",
       "      <th></th>\n",
       "      <th></th>\n",
       "      <th></th>\n",
       "    </tr>\n",
       "  </thead>\n",
       "  <tbody>\n",
       "    <tr>\n",
       "      <th>Administrative-Labor &amp; Trades</th>\n",
       "      <td>35398.450119</td>\n",
       "      <td>162831.632560</td>\n",
       "      <td>4.599965</td>\n",
       "    </tr>\n",
       "    <tr>\n",
       "      <th>Agriculture &amp; Horticulture</th>\n",
       "      <td>27886.590323</td>\n",
       "      <td>94075.711769</td>\n",
       "      <td>3.373511</td>\n",
       "    </tr>\n",
       "    <tr>\n",
       "      <th>Airport Operation</th>\n",
       "      <td>33661.152255</td>\n",
       "      <td>122059.011671</td>\n",
       "      <td>3.626109</td>\n",
       "    </tr>\n",
       "    <tr>\n",
       "      <th>Budget, Admn &amp; Stats Analysis</th>\n",
       "      <td>22721.521375</td>\n",
       "      <td>79834.029938</td>\n",
       "      <td>3.513586</td>\n",
       "    </tr>\n",
       "    <tr>\n",
       "      <th>Clerical, Secretarial &amp; Steno</th>\n",
       "      <td>7166.984747</td>\n",
       "      <td>24424.693281</td>\n",
       "      <td>3.407945</td>\n",
       "    </tr>\n",
       "  </tbody>\n",
       "</table>\n",
       "</div>"
      ],
      "text/plain": [
       "                               Total Benefits  Total Compensation  \\\n",
       "Job Family                                                          \n",
       "Administrative-Labor & Trades    35398.450119       162831.632560   \n",
       "Agriculture & Horticulture       27886.590323        94075.711769   \n",
       "Airport Operation                33661.152255       122059.011671   \n",
       "Budget, Admn & Stats Analysis    22721.521375        79834.029938   \n",
       "Clerical, Secretarial & Steno     7166.984747        24424.693281   \n",
       "\n",
       "                               Percent_Total_Benefit  \n",
       "Job Family                                            \n",
       "Administrative-Labor & Trades               4.599965  \n",
       "Agriculture & Horticulture                  3.373511  \n",
       "Airport Operation                           3.626109  \n",
       "Budget, Admn & Stats Analysis               3.513586  \n",
       "Clerical, Secretarial & Steno               3.407945  "
      ]
     },
     "execution_count": 123,
     "metadata": {},
     "output_type": "execute_result"
    }
   ],
   "source": [
    "df5['Percent_Total_Benefit'] = df5['Total Compensation'] / df5['Total Benefits'] # Calculate Percent Benefit\n",
    "df5.head()"
   ]
  },
  {
   "cell_type": "code",
   "execution_count": 124,
   "metadata": {
    "collapsed": false
   },
   "outputs": [],
   "source": [
    "df5.to_csv(\"Assignment3\\\\Results\\\\P2.2_Results.csv\", sep=',', encoding='utf-8') #Write to CSV"
   ]
  }
 ],
 "metadata": {
  "anaconda-cloud": {},
  "kernelspec": {
   "display_name": "Python [conda root]",
   "language": "python",
   "name": "conda-root-py"
  },
  "language_info": {
   "codemirror_mode": {
    "name": "ipython",
    "version": 3
   },
   "file_extension": ".py",
   "mimetype": "text/x-python",
   "name": "python",
   "nbconvert_exporter": "python",
   "pygments_lexer": "ipython3",
   "version": "3.5.2"
  }
 },
 "nbformat": 4,
 "nbformat_minor": 1
}
