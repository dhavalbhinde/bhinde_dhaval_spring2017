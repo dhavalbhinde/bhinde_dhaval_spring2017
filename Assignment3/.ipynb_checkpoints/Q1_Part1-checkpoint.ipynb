{
 "cells": [
  {
   "cell_type": "code",
   "execution_count": 82,
   "metadata": {
    "collapsed": false
   },
   "outputs": [
    {
     "name": "stdout",
     "output_type": "stream",
     "text": [
      "complete\n"
     ]
    }
   ],
   "source": [
    "import os\n",
    "import pandas as pd\n",
    "import numpy as np\n",
    "\n",
    "pd.options.mode.chained_assignment = None  # default='warn'\n",
    "\n",
    "try:\n",
    "    os.chdir('C:/Users/Dhaval/Python_Data/bhinde_dhaval_spring2017/') # making changes to cwd for local reference\n",
    "except:\n",
    "    pass\n",
    "\n",
    "df1=pd.read_csv(\"Assignment3\\\\Data\\\\vehicle_collisions.csv\") # read CSV\n",
    "print('complete')"
   ]
  },
  {
   "cell_type": "code",
   "execution_count": 83,
   "metadata": {
    "collapsed": false
   },
   "outputs": [
    {
     "name": "stdout",
     "output_type": "stream",
     "text": [
      "complete\n"
     ]
    }
   ],
   "source": [
    "import datetime\n",
    "datetime.datetime.strptime\n",
    "\n",
    "df1['DATE']  = pd.to_datetime(df1['DATE'])\n",
    "df_masked = df1[(df1['DATE'] >= datetime.date(2016,1,1))] # Extract data post 01/01/2016\n",
    "\n",
    "print('complete')"
   ]
  },
  {
   "cell_type": "code",
   "execution_count": 84,
   "metadata": {
    "collapsed": false
   },
   "outputs": [
    {
     "name": "stdout",
     "output_type": "stream",
     "text": [
      "Accidents in NY Jan 18101\n",
      "Accidents in NY Jan Manhattan 3178\n",
      "Percentage 0.17557041047455943\n"
     ]
    }
   ],
   "source": [
    "df2 = pd.DataFrame(index=range(12),columns=['Month','Manhattan','NYC','Percentage'])\n",
    "df2['Month'] = ['Jan','Feb','Mar','Apr','May','Jun','Jul','Aug','Sep','Oct','Nov','Dec']\n",
    "\n",
    "# Filter data by Date and get accident by month and city\n",
    "\n",
    "df_masked_jan = df1[(df1['DATE'] >= datetime.date(2016,1,1)) & (df1['DATE'] <= datetime.date(2016,1,31))]\n",
    "accidents_jan_NY = len(df_masked_jan.index)\n",
    "print('Accidents in NY Jan',accidents_jan_NY)\n",
    "\n",
    "df_masked_jan_man = (df_masked_jan.loc[df_masked_jan['BOROUGH'] == 'MANHATTAN'])\n",
    "accidents_jan_man = len(df_masked_jan_man.index)\n",
    "print('Accidents in NY Jan Manhattan',accidents_jan_man)\n",
    "\n",
    "percent_jan = accidents_jan_man/accidents_jan_NY\n",
    "print('Percentage',percent_jan)\n"
   ]
  },
  {
   "cell_type": "code",
   "execution_count": 85,
   "metadata": {
    "collapsed": false
   },
   "outputs": [
    {
     "name": "stdout",
     "output_type": "stream",
     "text": [
      "Accidents in NY Feb 15985\n",
      "Accidents in NY Feb Manhattan 3195\n",
      "Percentage 0.19987488270253362\n"
     ]
    }
   ],
   "source": [
    "# Filter data by Date and get accident by month and city\n",
    "\n",
    "df_masked_feb = df1[(df1['DATE'] >= datetime.date(2016,2,1)) & (df1['DATE'] <= datetime.date(2016,2,29))]\n",
    "accidents_feb_NY = len(df_masked_feb.index)\n",
    "print('Accidents in NY Feb',accidents_feb_NY)\n",
    "\n",
    "df_masked_feb_man = (df_masked_feb.loc[df_masked_feb['BOROUGH'] == 'MANHATTAN'])\n",
    "accidents_feb_man = len(df_masked_feb_man.index)\n",
    "print('Accidents in NY Feb Manhattan',accidents_feb_man)\n",
    "\n",
    "percent_feb = accidents_feb_man/accidents_feb_NY\n",
    "print('Percentage',percent_feb)"
   ]
  },
  {
   "cell_type": "code",
   "execution_count": 86,
   "metadata": {
    "collapsed": false
   },
   "outputs": [
    {
     "name": "stdout",
     "output_type": "stream",
     "text": [
      "Accidents in NY mar 18471\n",
      "Accidents in NY mar Manhattan 3479\n",
      "Percentage 0.18834930431487196\n"
     ]
    }
   ],
   "source": [
    "# Filter data by Date and get accident by month and city\n",
    "\n",
    "df_masked_mar = df1[(df1['DATE'] >= datetime.date(2016,3,1)) & (df1['DATE'] <= datetime.date(2016,3,31))]\n",
    "accidents_mar_NY = len(df_masked_mar.index)\n",
    "print('Accidents in NY mar',accidents_mar_NY)\n",
    "\n",
    "df_masked_mar_man = (df_masked_mar.loc[df_masked_mar['BOROUGH'] == 'MANHATTAN'])\n",
    "accidents_mar_man = len(df_masked_mar_man.index)\n",
    "print('Accidents in NY mar Manhattan',accidents_mar_man)\n",
    "\n",
    "percent_mar = accidents_mar_man/accidents_mar_NY\n",
    "print('Percentage',percent_mar)"
   ]
  },
  {
   "cell_type": "code",
   "execution_count": 87,
   "metadata": {
    "collapsed": false
   },
   "outputs": [
    {
     "name": "stdout",
     "output_type": "stream",
     "text": [
      "Accidents in NY apr 18331\n",
      "Accidents in NY apr Manhattan 3540\n",
      "Percentage 0.19311548742567236\n"
     ]
    }
   ],
   "source": [
    "# Filter data by Date and get accident by month and city\n",
    "\n",
    "df_masked_apr = df1[(df1['DATE'] >= datetime.date(2016,4,1)) & (df1['DATE'] <= datetime.date(2016,4,30))]\n",
    "accidents_apr_NY = len(df_masked_apr.index)\n",
    "print('Accidents in NY apr',accidents_apr_NY)\n",
    "\n",
    "df_masked_apr_man = (df_masked_apr.loc[df_masked_apr['BOROUGH'] == 'MANHATTAN'])\n",
    "accidents_apr_man = len(df_masked_apr_man.index)\n",
    "print('Accidents in NY apr Manhattan',accidents_apr_man)\n",
    "\n",
    "percent_apr = accidents_apr_man/accidents_apr_NY\n",
    "print('Percentage',percent_apr)"
   ]
  },
  {
   "cell_type": "code",
   "execution_count": 88,
   "metadata": {
    "collapsed": false
   },
   "outputs": [
    {
     "name": "stdout",
     "output_type": "stream",
     "text": [
      "Accidents in NY may 20052\n",
      "Accidents in NY may Manhattan 3432\n",
      "Percentage 0.17115499700777978\n"
     ]
    }
   ],
   "source": [
    "# Filter data by Date and get accident by month and city\n",
    "\n",
    "df_masked_may = df1[(df1['DATE'] >= datetime.date(2016,5,1)) & (df1['DATE'] <= datetime.date(2016,5,31))]\n",
    "accidents_may_NY = len(df_masked_may.index)\n",
    "print('Accidents in NY may',accidents_may_NY)\n",
    "\n",
    "df_masked_may_man = (df_masked_may.loc[df_masked_may['BOROUGH'] == 'MANHATTAN'])\n",
    "accidents_may_man = len(df_masked_may_man.index)\n",
    "print('Accidents in NY may Manhattan',accidents_may_man)\n",
    "\n",
    "percent_may = accidents_may_man/accidents_may_NY\n",
    "print('Percentage',percent_may)"
   ]
  },
  {
   "cell_type": "code",
   "execution_count": 90,
   "metadata": {
    "collapsed": false
   },
   "outputs": [
    {
     "name": "stdout",
     "output_type": "stream",
     "text": [
      "Accidents in NY jun 19433\n",
      "Accidents in NY jun Manhattan 2956\n",
      "Percentage 0.15211238614727526\n"
     ]
    }
   ],
   "source": [
    "# Filter data by Date and get accident by month and city\n",
    "\n",
    "df_masked_jun = df1[(df1['DATE'] >= datetime.date(2016,6,1)) & (df1['DATE'] <= datetime.date(2016,6,30))]\n",
    "accidents_jun_NY = len(df_masked_jun.index)\n",
    "print('Accidents in NY jun',accidents_jun_NY)\n",
    "\n",
    "df_masked_jun_man = (df_masked_jun.loc[df_masked_jun['BOROUGH'] == 'MANHATTAN'])\n",
    "accidents_jun_man = len(df_masked_jun_man.index)\n",
    "print('Accidents in NY jun Manhattan',accidents_jun_man)\n",
    "\n",
    "percent_jun = accidents_jun_man/accidents_jun_NY\n",
    "print('Percentage',percent_jun)"
   ]
  },
  {
   "cell_type": "code",
   "execution_count": 91,
   "metadata": {
    "collapsed": false
   },
   "outputs": [
    {
     "name": "stdout",
     "output_type": "stream",
     "text": [
      "Accidents in NY jul 19867\n",
      "Accidents in NY jul Manhattan 3055\n",
      "Percentage 0.15377258770825994\n"
     ]
    }
   ],
   "source": [
    "# Filter data by Date and get accident by month and city\n",
    "\n",
    "df_masked_jul = df1[(df1['DATE'] >= datetime.date(2016,7,1)) & (df1['DATE'] <= datetime.date(2016,7,31))]\n",
    "accidents_jul_NY = len(df_masked_jul.index)\n",
    "print('Accidents in NY jul',accidents_jul_NY)\n",
    "\n",
    "df_masked_jul_man = (df_masked_jul.loc[df_masked_jul['BOROUGH'] == 'MANHATTAN'])\n",
    "accidents_jul_man = len(df_masked_jul_man.index)\n",
    "print('Accidents in NY jul Manhattan',accidents_jul_man)\n",
    "\n",
    "percent_jul = accidents_jul_man/accidents_jul_NY\n",
    "print('Percentage',percent_jul)"
   ]
  },
  {
   "cell_type": "code",
   "execution_count": 92,
   "metadata": {
    "collapsed": false
   },
   "outputs": [
    {
     "name": "stdout",
     "output_type": "stream",
     "text": [
      "Accidents in NY aug 19678\n",
      "Accidents in NY aug Manhattan 2844\n",
      "Percentage 0.14452688281329404\n"
     ]
    }
   ],
   "source": [
    "# Filter data by Date and get accident by month and city\n",
    "\n",
    "df_masked_aug = df1[(df1['DATE'] >= datetime.date(2016,8,1)) & (df1['DATE'] <= datetime.date(2016,8,31))]\n",
    "accidents_aug_NY = len(df_masked_aug.index)\n",
    "print('Accidents in NY aug',accidents_aug_NY)\n",
    "\n",
    "df_masked_aug_man = (df_masked_aug.loc[df_masked_aug['BOROUGH'] == 'MANHATTAN'])\n",
    "accidents_aug_man = len(df_masked_aug_man.index)\n",
    "print('Accidents in NY aug Manhattan',accidents_aug_man)\n",
    "\n",
    "percent_aug = accidents_aug_man/accidents_aug_NY\n",
    "print('Percentage',percent_aug)"
   ]
  },
  {
   "cell_type": "code",
   "execution_count": 93,
   "metadata": {
    "collapsed": false
   },
   "outputs": [
    {
     "name": "stdout",
     "output_type": "stream",
     "text": [
      "Accidents in NY sep 19492\n",
      "Accidents in NY sep Manhattan 2744\n",
      "Percentage 0.14077570285245228\n"
     ]
    }
   ],
   "source": [
    "# Filter data by Date and get accident by month and city\n",
    "\n",
    "df_masked_sep = df1[(df1['DATE'] >= datetime.date(2016,9,1)) & (df1['DATE'] <= datetime.date(2016,9,30))]\n",
    "accidents_sep_NY = len(df_masked_sep.index)\n",
    "print('Accidents in NY sep',accidents_sep_NY)\n",
    "\n",
    "df_masked_sep_man = (df_masked_sep.loc[df_masked_sep['BOROUGH'] == 'MANHATTAN'])\n",
    "accidents_sep_man = len(df_masked_sep_man.index)\n",
    "print('Accidents in NY sep Manhattan',accidents_sep_man)\n",
    "\n",
    "percent_sep = accidents_sep_man/accidents_sep_NY\n",
    "print('Percentage',percent_sep)"
   ]
  },
  {
   "cell_type": "code",
   "execution_count": 94,
   "metadata": {
    "collapsed": false
   },
   "outputs": [
    {
     "name": "stdout",
     "output_type": "stream",
     "text": [
      "Accidents in NY oct 19666\n",
      "Accidents in NY oct Manhattan 2831\n",
      "Percentage 0.14395403234007934\n"
     ]
    }
   ],
   "source": [
    "# Filter data by Date and get accident by month and city\n",
    "\n",
    "df_masked_oct = df1[(df1['DATE'] >= datetime.date(2016,10,1)) & (df1['DATE'] <= datetime.date(2016,10,31))]\n",
    "accidents_oct_NY = len(df_masked_oct.index)\n",
    "print('Accidents in NY oct',accidents_oct_NY)\n",
    "\n",
    "df_masked_oct_man = (df_masked_oct.loc[df_masked_oct['BOROUGH'] == 'MANHATTAN'])\n",
    "accidents_oct_man = len(df_masked_oct_man.index)\n",
    "print('Accidents in NY oct Manhattan',accidents_oct_man)\n",
    "\n",
    "percent_oct = accidents_oct_man/accidents_oct_NY\n",
    "print('Percentage',percent_oct)"
   ]
  },
  {
   "cell_type": "code",
   "execution_count": 96,
   "metadata": {
    "collapsed": false
   },
   "outputs": [
    {
     "name": "stdout",
     "output_type": "stream",
     "text": [
      "Accidents in NY nov 19315\n",
      "Accidents in NY nov Manhattan 2838\n",
      "Percentage 0.14693243593062386\n"
     ]
    }
   ],
   "source": [
    "# Filter data by Date and get accident by month and city\n",
    "\n",
    "df_masked_nov = df1[(df1['DATE'] >= datetime.date(2016,11,1)) & (df1['DATE'] <= datetime.date(2016,11,30))]\n",
    "accidents_nov_NY = len(df_masked_nov.index)\n",
    "print('Accidents in NY nov',accidents_nov_NY)\n",
    "\n",
    "df_masked_nov_man = (df_masked_nov.loc[df_masked_nov['BOROUGH'] == 'MANHATTAN'])\n",
    "accidents_nov_man = len(df_masked_nov_man.index)\n",
    "print('Accidents in NY nov Manhattan',accidents_nov_man)\n",
    "\n",
    "percent_nov = accidents_nov_man/accidents_nov_NY\n",
    "print('Percentage',percent_nov)"
   ]
  },
  {
   "cell_type": "code",
   "execution_count": 97,
   "metadata": {
    "collapsed": false
   },
   "outputs": [
    {
     "name": "stdout",
     "output_type": "stream",
     "text": [
      "Accidents in NY dec 19214\n",
      "Accidents in NY dec Manhattan 2634\n",
      "Percentage 0.13708754033517226\n"
     ]
    }
   ],
   "source": [
    "# Filter data by Date and get accident by month and city\n",
    "\n",
    "df_masked_dec = df1[(df1['DATE'] >= datetime.date(2016,12,1)) & (df1['DATE'] <= datetime.date(2016,12,31))]\n",
    "accidents_dec_NY = len(df_masked_dec.index)\n",
    "print('Accidents in NY dec',accidents_dec_NY)\n",
    "\n",
    "df_masked_dec_man = (df_masked_dec.loc[df_masked_dec['BOROUGH'] == 'MANHATTAN'])\n",
    "accidents_dec_man = len(df_masked_dec_man.index)\n",
    "print('Accidents in NY dec Manhattan',accidents_dec_man)\n",
    "\n",
    "percent_dec = accidents_dec_man/accidents_dec_NY\n",
    "print('Percentage',percent_dec)"
   ]
  },
  {
   "cell_type": "code",
   "execution_count": 98,
   "metadata": {
    "collapsed": true
   },
   "outputs": [],
   "source": [
    "# Update the 12 month data into a new dataframe\n",
    "\n",
    "df2['Manhattan'] = [accidents_jan_man, accidents_feb_man, accidents_mar_man, accidents_apr_man, accidents_may_man, \\\n",
    "                    accidents_jun_man, accidents_jul_man, accidents_aug_man, accidents_sep_man, accidents_oct_man, \\\n",
    "                    accidents_nov_man, accidents_dec_man]\n",
    "\n",
    "df2['NYC'] = [accidents_jan_NY, accidents_feb_NY, accidents_mar_NY, accidents_apr_NY, accidents_may_NY, \\\n",
    "                    accidents_jun_NY, accidents_jul_NY, accidents_aug_NY, accidents_sep_NY, accidents_oct_NY, \\\n",
    "                    accidents_nov_NY, accidents_dec_NY]\n",
    "\n",
    "df2['Percentage'] = [percent_jan, percent_feb, percent_mar, percent_apr, percent_may, percent_jun, percent_jul, \\\n",
    "                     percent_aug, percent_sep, percent_oct, percent_nov, percent_dec]"
   ]
  },
  {
   "cell_type": "code",
   "execution_count": 99,
   "metadata": {
    "collapsed": false
   },
   "outputs": [
    {
     "data": {
      "text/html": [
       "<div>\n",
       "<table border=\"1\" class=\"dataframe\">\n",
       "  <thead>\n",
       "    <tr style=\"text-align: right;\">\n",
       "      <th></th>\n",
       "      <th>Month</th>\n",
       "      <th>Manhattan</th>\n",
       "      <th>NYC</th>\n",
       "      <th>Percentage</th>\n",
       "    </tr>\n",
       "  </thead>\n",
       "  <tbody>\n",
       "    <tr>\n",
       "      <th>0</th>\n",
       "      <td>Jan</td>\n",
       "      <td>3178</td>\n",
       "      <td>18101</td>\n",
       "      <td>0.175570</td>\n",
       "    </tr>\n",
       "    <tr>\n",
       "      <th>1</th>\n",
       "      <td>Feb</td>\n",
       "      <td>3195</td>\n",
       "      <td>15985</td>\n",
       "      <td>0.199875</td>\n",
       "    </tr>\n",
       "    <tr>\n",
       "      <th>2</th>\n",
       "      <td>Mar</td>\n",
       "      <td>3479</td>\n",
       "      <td>18471</td>\n",
       "      <td>0.188349</td>\n",
       "    </tr>\n",
       "    <tr>\n",
       "      <th>3</th>\n",
       "      <td>Apr</td>\n",
       "      <td>3540</td>\n",
       "      <td>18331</td>\n",
       "      <td>0.193115</td>\n",
       "    </tr>\n",
       "    <tr>\n",
       "      <th>4</th>\n",
       "      <td>May</td>\n",
       "      <td>3432</td>\n",
       "      <td>20052</td>\n",
       "      <td>0.171155</td>\n",
       "    </tr>\n",
       "  </tbody>\n",
       "</table>\n",
       "</div>"
      ],
      "text/plain": [
       "  Month  Manhattan    NYC  Percentage\n",
       "0   Jan       3178  18101    0.175570\n",
       "1   Feb       3195  15985    0.199875\n",
       "2   Mar       3479  18471    0.188349\n",
       "3   Apr       3540  18331    0.193115\n",
       "4   May       3432  20052    0.171155"
      ]
     },
     "execution_count": 99,
     "metadata": {},
     "output_type": "execute_result"
    }
   ],
   "source": [
    "df2.to_csv(\"Assignment3\\\\Results\\\\P1.1_Results.csv\", sep=',', encoding='utf-8')\n",
    "df2.head()"
   ]
  }
 ],
 "metadata": {
  "kernelspec": {
   "display_name": "Python [conda root]",
   "language": "python",
   "name": "conda-root-py"
  },
  "language_info": {
   "codemirror_mode": {
    "name": "ipython",
    "version": 3
   },
   "file_extension": ".py",
   "mimetype": "text/x-python",
   "name": "python",
   "nbconvert_exporter": "python",
   "pygments_lexer": "ipython3",
   "version": "3.5.2"
  }
 },
 "nbformat": 4,
 "nbformat_minor": 1
}
