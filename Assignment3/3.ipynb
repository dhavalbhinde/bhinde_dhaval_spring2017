{
 "cells": [
  {
   "cell_type": "code",
   "execution_count": 3,
   "metadata": {
    "collapsed": false
   },
   "outputs": [
    {
     "name": "stdout",
     "output_type": "stream",
     "text": [
      "complete\n"
     ]
    }
   ],
   "source": [
    "import os\n",
    "import pandas as pd\n",
    "import numpy as np\n",
    "\n",
    "try:\n",
    "    os.chdir('C:/Users/Dhaval/Python_Data/bhinde_dhaval_spring2017/') # making changes to cwd for local reference\n",
    "except:\n",
    "    pass\n",
    "\n",
    "\n",
    "df1=pd.read_csv(\"Assignment3\\\\Data\\\\cricket_matches.csv\")\n",
    "df2= df1[['home','winner','innings1','innings1_runs','innings2','innings2_runs']]\n",
    "\n",
    "print(\"complete\")\n"
   ]
  },
  {
   "cell_type": "code",
   "execution_count": 73,
   "metadata": {
    "collapsed": false
   },
   "outputs": [],
   "source": [
    "df2 = df2[(df2[\"home\"]==df2[\"winner\"])]\n",
    "\n",
    "df2_innings1 = df2[(df2[\"winner\"]==df2[\"innings1\"])]\n",
    "df2_innings2 = df2[(df2[\"winner\"]==df2[\"innings2\"])]\n",
    "\n",
    "df2_innings1 = df2_innings1[['winner','innings1_runs']]\n",
    "df2_innings2 = df2_innings2[['winner','innings2_runs']]\n",
    "\n",
    "df2_innings1.columns=['winner','runs']\n",
    "df2_innings2.columns=['winner','runs']\n",
    "\n",
    "df3 = pd.concat([df2_innings1,df2_innings2])\n",
    "\n",
    "df_x1 = df3.groupby(df3['winner']).mean()\n",
    "\n",
    "df_x1 = df_x1.reset_index()\n",
    "df_x1.columns = ['Team','Average Runs']\n",
    "\n",
    "df_x1.to_csv(\"Assignment3\\\\Results\\\\P3_Results.csv\", sep=',', encoding='utf-8')\n",
    "\n",
    "\n",
    "\n"
   ]
  }
 ],
 "metadata": {
  "anaconda-cloud": {},
  "kernelspec": {
   "display_name": "Python [conda root]",
   "language": "python",
   "name": "conda-root-py"
  },
  "language_info": {
   "codemirror_mode": {
    "name": "ipython",
    "version": 3
   },
   "file_extension": ".py",
   "mimetype": "text/x-python",
   "name": "python",
   "nbconvert_exporter": "python",
   "pygments_lexer": "ipython3",
   "version": "3.5.2"
  }
 },
 "nbformat": 4,
 "nbformat_minor": 1
}
